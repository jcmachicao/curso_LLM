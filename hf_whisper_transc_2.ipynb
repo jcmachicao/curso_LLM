{
  "nbformat": 4,
  "nbformat_minor": 0,
  "metadata": {
    "colab": {
      "provenance": [],
      "include_colab_link": true
    },
    "kernelspec": {
      "name": "python3",
      "display_name": "Python 3"
    },
    "language_info": {
      "name": "python"
    },
    "accelerator": "GPU",
    "gpuClass": "standard"
  },
  "cells": [
    {
      "cell_type": "markdown",
      "metadata": {
        "id": "view-in-github",
        "colab_type": "text"
      },
      "source": [
        "<a href=\"https://colab.research.google.com/github/jcmachicao/curso_LLM/blob/main/hf_whisper_transc_2.ipynb\" target=\"_parent\"><img src=\"https://colab.research.google.com/assets/colab-badge.svg\" alt=\"Open In Colab\"/></a>"
      ]
    },
    {
      "cell_type": "markdown",
      "source": [
        "whisper directo"
      ],
      "metadata": {
        "id": "gLtwb31_KQuo"
      }
    },
    {
      "cell_type": "code",
      "source": [
        "!pip install git+https://github.com/openai/whisper.git"
      ],
      "metadata": {
        "id": "Q9H2F-Z-KabH"
      },
      "execution_count": null,
      "outputs": []
    },
    {
      "cell_type": "code",
      "source": [
        "!pip install pydub"
      ],
      "metadata": {
        "colab": {
          "base_uri": "https://localhost:8080/"
        },
        "id": "COzH6kTyXJcQ",
        "outputId": "61dc0d1c-a3bd-4479-9954-e63397a8852d"
      },
      "execution_count": null,
      "outputs": [
        {
          "output_type": "stream",
          "name": "stdout",
          "text": [
            "Looking in indexes: https://pypi.org/simple, https://us-python.pkg.dev/colab-wheels/public/simple/\n",
            "Collecting pydub\n",
            "  Downloading pydub-0.25.1-py2.py3-none-any.whl (32 kB)\n",
            "Installing collected packages: pydub\n",
            "Successfully installed pydub-0.25.1\n"
          ]
        }
      ]
    },
    {
      "cell_type": "code",
      "source": [
        "import whisper\n",
        "import pandas as pd\n",
        "import os"
      ],
      "metadata": {
        "id": "8LNQO06wKX2Y"
      },
      "execution_count": null,
      "outputs": []
    },
    {
      "cell_type": "code",
      "source": [
        "from pydub import AudioSegment"
      ],
      "metadata": {
        "id": "mj1s8mb7XGTK"
      },
      "execution_count": null,
      "outputs": []
    },
    {
      "cell_type": "code",
      "source": [
        "#model = whisper.load_model(\"base\")\n",
        "model = whisper.load_model(\"large\")"
      ],
      "metadata": {
        "id": "V28WUR8PLxKo",
        "colab": {
          "base_uri": "https://localhost:8080/"
        },
        "outputId": "064ca21e-a55a-4a9d-d6c1-82995c0dd62b"
      },
      "execution_count": null,
      "outputs": [
        {
          "output_type": "stream",
          "name": "stderr",
          "text": [
            "100%|█████████████████████████████████████| 2.87G/2.87G [02:16<00:00, 22.6MiB/s]\n"
          ]
        }
      ]
    },
    {
      "cell_type": "code",
      "source": [
        "ruta = 'drive/My Drive/2022 Proyectos/00 Transcripciones/Grupo A/'\n",
        "audiosx = os.listdir(ruta)"
      ],
      "metadata": {
        "id": "AAR58jrIKmLI"
      },
      "execution_count": null,
      "outputs": []
    },
    {
      "cell_type": "code",
      "source": [
        "audiosx"
      ],
      "metadata": {
        "id": "ID7vCuAcRVua",
        "colab": {
          "base_uri": "https://localhost:8080/"
        },
        "outputId": "6a61074c-3b79-49f2-f9f3-227ab4318a80"
      },
      "execution_count": null,
      "outputs": [
        {
          "output_type": "execute_result",
          "data": {
            "text/plain": [
              "['Audio P4 LH.m4a',\n",
              " 'P15 LL.m4a',\n",
              " 'audio1911410191 P18 -1 BM.m4a',\n",
              " 'audio2586692168 =18-3 BM.m4a',\n",
              " 'audio1656451021 P17 LG.m4a',\n",
              " 'Audio P2 CA.m4a',\n",
              " 'audio1734546507 P3 JS.m4a',\n",
              " 'audio1942436330 P 7 MN-2.m4a',\n",
              " 'audio1662266225 P9 VZ.m4a',\n",
              " 'Audio P4 LH.xlsx',\n",
              " 'P15 LL.xlsx',\n",
              " 'audio1911410191 P18 -1 BM.xlsx',\n",
              " 'chunks3',\n",
              " 'chunks3 (1)',\n",
              " 'audio2586692168 =18-3 BM.xlsx']"
            ]
          },
          "metadata": {},
          "execution_count": 73
        }
      ]
    },
    {
      "cell_type": "code",
      "source": [
        "n = 4"
      ],
      "metadata": {
        "id": "cuoCUarnXTgH"
      },
      "execution_count": null,
      "outputs": []
    },
    {
      "cell_type": "code",
      "source": [
        "file_path = ruta + audiosx[n]\n",
        "file_path"
      ],
      "metadata": {
        "colab": {
          "base_uri": "https://localhost:8080/",
          "height": 36
        },
        "id": "nit9_cffXY6q",
        "outputId": "b997a514-ad35-42cc-fe9a-eecf86c1506c"
      },
      "execution_count": null,
      "outputs": [
        {
          "output_type": "execute_result",
          "data": {
            "text/plain": [
              "'drive/My Drive/2022 Proyectos/00 Transcripciones/Grupo A/audio1656451021 P17 LG.m4a'"
            ],
            "application/vnd.google.colaboratory.intrinsic+json": {
              "type": "string"
            }
          },
          "metadata": {},
          "execution_count": 75
        }
      ]
    },
    {
      "cell_type": "code",
      "source": [
        "chunk_dur = 2 * 60 * 1000\n",
        "audio = AudioSegment.from_file(file_path, format='m4a')\n",
        "audio_duration = len(audio)\n",
        "print(audio_duration/60000)\n",
        "output_dir = ruta + 'chunks20/'\n",
        "os.makedirs(output_dir, exist_ok=True)"
      ],
      "metadata": {
        "colab": {
          "base_uri": "https://localhost:8080/"
        },
        "id": "65O1KgWmX5dG",
        "outputId": "6c311b16-0902-44eb-cd5c-e2456979fab9"
      },
      "execution_count": null,
      "outputs": [
        {
          "output_type": "stream",
          "name": "stdout",
          "text": [
            "18.006933333333333\n"
          ]
        }
      ]
    },
    {
      "cell_type": "code",
      "source": [
        "for i in range(0, audio_duration, chunk_dur):\n",
        "  chunk = audio[i:i+chunk_dur+2000]\n",
        "  output_file = os.path.join(output_dir, f'chunk_{i//chunk_dur}.wav')\n",
        "  chunk.export(output_file, format='wav')"
      ],
      "metadata": {
        "id": "_dxAMRNiXB8U"
      },
      "execution_count": null,
      "outputs": []
    },
    {
      "cell_type": "code",
      "source": [
        "len(os.listdir(output_dir))"
      ],
      "metadata": {
        "colab": {
          "base_uri": "https://localhost:8080/"
        },
        "id": "pJ_rI4R4VP3B",
        "outputId": "4c3b0dbd-dfdc-4fea-cdd4-2d24aa42261f"
      },
      "execution_count": null,
      "outputs": [
        {
          "output_type": "execute_result",
          "data": {
            "text/plain": [
              "10"
            ]
          },
          "metadata": {},
          "execution_count": 78
        }
      ]
    },
    {
      "cell_type": "code",
      "source": [
        "textos = []\n",
        "chunk_auds = os.listdir(output_dir)\n",
        "for au in chunk_auds:\n",
        "  print(au)\n",
        "  result = model.transcribe(output_dir + au)\n",
        "  txau = result['text']\n",
        "  textos.append([au, txau])"
      ],
      "metadata": {
        "id": "Vuikc6sdC3wO",
        "colab": {
          "base_uri": "https://localhost:8080/"
        },
        "outputId": "f527f871-dd92-4002-cab1-eff61da7e96f"
      },
      "execution_count": null,
      "outputs": [
        {
          "output_type": "stream",
          "name": "stdout",
          "text": [
            "chunk_0.wav\n",
            "chunk_1.wav\n",
            "chunk_2.wav\n",
            "chunk_3.wav\n",
            "chunk_4.wav\n",
            "chunk_5.wav\n",
            "chunk_6.wav\n",
            "chunk_7.wav\n",
            "chunk_8.wav\n",
            "chunk_9.wav\n"
          ]
        }
      ]
    },
    {
      "cell_type": "code",
      "source": [
        "textos_df = pd.DataFrame(textos)\n",
        "textos_df.columns = ['audio', 'textos']\n",
        "textos_df['tx_len'] = textos_df.textos.apply(len)\n",
        "textos_df"
      ],
      "metadata": {
        "id": "8C21CGovEk8G",
        "colab": {
          "base_uri": "https://localhost:8080/",
          "height": 363
        },
        "outputId": "59b424bb-f4e5-4f87-f87e-7ad2e1354bdf"
      },
      "execution_count": null,
      "outputs": [
        {
          "output_type": "execute_result",
          "data": {
            "text/plain": [
              "         audio                                             textos  tx_len\n",
              "0  chunk_0.wav   ahí estamos. Voy a empezar a grabar. Buenas n...    1315\n",
              "1  chunk_1.wav   por lo que me encontré con la situación lógic...    1324\n",
              "2  chunk_2.wav   que se han realizado a ella, ¿no? Con los rec...    1520\n",
              "3  chunk_3.wav   tenido en nuestros compatriotas que fallecier...    1382\n",
              "4  chunk_4.wav   que se han cumplido por una serie de requisit...    1450\n",
              "5  chunk_5.wav   no es lo que queremos, no? Llegar hacia el pu...    1103\n",
              "6  chunk_6.wav   la la la información sobre lo territorial y s...    1454\n",
              "7  chunk_7.wav   de la salud en en la prevención de pandemia o...    1292\n",
              "8  chunk_8.wav   hasta la noche. Entonces esto me parece que e...    1437\n",
              "9  chunk_9.wav                                                          0"
            ],
            "text/html": [
              "\n",
              "  <div id=\"df-9e31ff20-7678-45f8-b825-2302cb7a866e\">\n",
              "    <div class=\"colab-df-container\">\n",
              "      <div>\n",
              "<style scoped>\n",
              "    .dataframe tbody tr th:only-of-type {\n",
              "        vertical-align: middle;\n",
              "    }\n",
              "\n",
              "    .dataframe tbody tr th {\n",
              "        vertical-align: top;\n",
              "    }\n",
              "\n",
              "    .dataframe thead th {\n",
              "        text-align: right;\n",
              "    }\n",
              "</style>\n",
              "<table border=\"1\" class=\"dataframe\">\n",
              "  <thead>\n",
              "    <tr style=\"text-align: right;\">\n",
              "      <th></th>\n",
              "      <th>audio</th>\n",
              "      <th>textos</th>\n",
              "      <th>tx_len</th>\n",
              "    </tr>\n",
              "  </thead>\n",
              "  <tbody>\n",
              "    <tr>\n",
              "      <th>0</th>\n",
              "      <td>chunk_0.wav</td>\n",
              "      <td>ahí estamos. Voy a empezar a grabar. Buenas n...</td>\n",
              "      <td>1315</td>\n",
              "    </tr>\n",
              "    <tr>\n",
              "      <th>1</th>\n",
              "      <td>chunk_1.wav</td>\n",
              "      <td>por lo que me encontré con la situación lógic...</td>\n",
              "      <td>1324</td>\n",
              "    </tr>\n",
              "    <tr>\n",
              "      <th>2</th>\n",
              "      <td>chunk_2.wav</td>\n",
              "      <td>que se han realizado a ella, ¿no? Con los rec...</td>\n",
              "      <td>1520</td>\n",
              "    </tr>\n",
              "    <tr>\n",
              "      <th>3</th>\n",
              "      <td>chunk_3.wav</td>\n",
              "      <td>tenido en nuestros compatriotas que fallecier...</td>\n",
              "      <td>1382</td>\n",
              "    </tr>\n",
              "    <tr>\n",
              "      <th>4</th>\n",
              "      <td>chunk_4.wav</td>\n",
              "      <td>que se han cumplido por una serie de requisit...</td>\n",
              "      <td>1450</td>\n",
              "    </tr>\n",
              "    <tr>\n",
              "      <th>5</th>\n",
              "      <td>chunk_5.wav</td>\n",
              "      <td>no es lo que queremos, no? Llegar hacia el pu...</td>\n",
              "      <td>1103</td>\n",
              "    </tr>\n",
              "    <tr>\n",
              "      <th>6</th>\n",
              "      <td>chunk_6.wav</td>\n",
              "      <td>la la la información sobre lo territorial y s...</td>\n",
              "      <td>1454</td>\n",
              "    </tr>\n",
              "    <tr>\n",
              "      <th>7</th>\n",
              "      <td>chunk_7.wav</td>\n",
              "      <td>de la salud en en la prevención de pandemia o...</td>\n",
              "      <td>1292</td>\n",
              "    </tr>\n",
              "    <tr>\n",
              "      <th>8</th>\n",
              "      <td>chunk_8.wav</td>\n",
              "      <td>hasta la noche. Entonces esto me parece que e...</td>\n",
              "      <td>1437</td>\n",
              "    </tr>\n",
              "    <tr>\n",
              "      <th>9</th>\n",
              "      <td>chunk_9.wav</td>\n",
              "      <td></td>\n",
              "      <td>0</td>\n",
              "    </tr>\n",
              "  </tbody>\n",
              "</table>\n",
              "</div>\n",
              "      <button class=\"colab-df-convert\" onclick=\"convertToInteractive('df-9e31ff20-7678-45f8-b825-2302cb7a866e')\"\n",
              "              title=\"Convert this dataframe to an interactive table.\"\n",
              "              style=\"display:none;\">\n",
              "        \n",
              "  <svg xmlns=\"http://www.w3.org/2000/svg\" height=\"24px\"viewBox=\"0 0 24 24\"\n",
              "       width=\"24px\">\n",
              "    <path d=\"M0 0h24v24H0V0z\" fill=\"none\"/>\n",
              "    <path d=\"M18.56 5.44l.94 2.06.94-2.06 2.06-.94-2.06-.94-.94-2.06-.94 2.06-2.06.94zm-11 1L8.5 8.5l.94-2.06 2.06-.94-2.06-.94L8.5 2.5l-.94 2.06-2.06.94zm10 10l.94 2.06.94-2.06 2.06-.94-2.06-.94-.94-2.06-.94 2.06-2.06.94z\"/><path d=\"M17.41 7.96l-1.37-1.37c-.4-.4-.92-.59-1.43-.59-.52 0-1.04.2-1.43.59L10.3 9.45l-7.72 7.72c-.78.78-.78 2.05 0 2.83L4 21.41c.39.39.9.59 1.41.59.51 0 1.02-.2 1.41-.59l7.78-7.78 2.81-2.81c.8-.78.8-2.07 0-2.86zM5.41 20L4 18.59l7.72-7.72 1.47 1.35L5.41 20z\"/>\n",
              "  </svg>\n",
              "      </button>\n",
              "      \n",
              "  <style>\n",
              "    .colab-df-container {\n",
              "      display:flex;\n",
              "      flex-wrap:wrap;\n",
              "      gap: 12px;\n",
              "    }\n",
              "\n",
              "    .colab-df-convert {\n",
              "      background-color: #E8F0FE;\n",
              "      border: none;\n",
              "      border-radius: 50%;\n",
              "      cursor: pointer;\n",
              "      display: none;\n",
              "      fill: #1967D2;\n",
              "      height: 32px;\n",
              "      padding: 0 0 0 0;\n",
              "      width: 32px;\n",
              "    }\n",
              "\n",
              "    .colab-df-convert:hover {\n",
              "      background-color: #E2EBFA;\n",
              "      box-shadow: 0px 1px 2px rgba(60, 64, 67, 0.3), 0px 1px 3px 1px rgba(60, 64, 67, 0.15);\n",
              "      fill: #174EA6;\n",
              "    }\n",
              "\n",
              "    [theme=dark] .colab-df-convert {\n",
              "      background-color: #3B4455;\n",
              "      fill: #D2E3FC;\n",
              "    }\n",
              "\n",
              "    [theme=dark] .colab-df-convert:hover {\n",
              "      background-color: #434B5C;\n",
              "      box-shadow: 0px 1px 3px 1px rgba(0, 0, 0, 0.15);\n",
              "      filter: drop-shadow(0px 1px 2px rgba(0, 0, 0, 0.3));\n",
              "      fill: #FFFFFF;\n",
              "    }\n",
              "  </style>\n",
              "\n",
              "      <script>\n",
              "        const buttonEl =\n",
              "          document.querySelector('#df-9e31ff20-7678-45f8-b825-2302cb7a866e button.colab-df-convert');\n",
              "        buttonEl.style.display =\n",
              "          google.colab.kernel.accessAllowed ? 'block' : 'none';\n",
              "\n",
              "        async function convertToInteractive(key) {\n",
              "          const element = document.querySelector('#df-9e31ff20-7678-45f8-b825-2302cb7a866e');\n",
              "          const dataTable =\n",
              "            await google.colab.kernel.invokeFunction('convertToInteractive',\n",
              "                                                     [key], {});\n",
              "          if (!dataTable) return;\n",
              "\n",
              "          const docLinkHtml = 'Like what you see? Visit the ' +\n",
              "            '<a target=\"_blank\" href=https://colab.research.google.com/notebooks/data_table.ipynb>data table notebook</a>'\n",
              "            + ' to learn more about interactive tables.';\n",
              "          element.innerHTML = '';\n",
              "          dataTable['output_type'] = 'display_data';\n",
              "          await google.colab.output.renderOutput(dataTable, element);\n",
              "          const docLink = document.createElement('div');\n",
              "          docLink.innerHTML = docLinkHtml;\n",
              "          element.appendChild(docLink);\n",
              "        }\n",
              "      </script>\n",
              "    </div>\n",
              "  </div>\n",
              "  "
            ]
          },
          "metadata": {},
          "execution_count": 80
        }
      ]
    },
    {
      "cell_type": "code",
      "source": [
        "audx = audiosx[n]\n",
        "audx = audx[0:-4]\n",
        "audx"
      ],
      "metadata": {
        "colab": {
          "base_uri": "https://localhost:8080/",
          "height": 36
        },
        "id": "YEhhPbVoWIxa",
        "outputId": "f553898f-4beb-444e-f896-5ba1225697e7"
      },
      "execution_count": null,
      "outputs": [
        {
          "output_type": "execute_result",
          "data": {
            "text/plain": [
              "'audio1656451021 P17 LG'"
            ],
            "application/vnd.google.colaboratory.intrinsic+json": {
              "type": "string"
            }
          },
          "metadata": {},
          "execution_count": 81
        }
      ]
    },
    {
      "cell_type": "code",
      "source": [
        "textos_df.to_excel(ruta+audx+'.xlsx')"
      ],
      "metadata": {
        "id": "smKxaBMpMdK-"
      },
      "execution_count": null,
      "outputs": []
    },
    {
      "cell_type": "markdown",
      "source": [
        "https://github.com/openai/whisper"
      ],
      "metadata": {
        "id": "R3jQKekCK-MP"
      }
    }
  ]
}