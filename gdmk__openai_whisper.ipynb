{
  "nbformat": 4,
  "nbformat_minor": 0,
  "metadata": {
    "colab": {
      "provenance": [],
      "mount_file_id": "1Xh2sPPKzgWjoAHPquUsqoxNwVmlajokX",
      "authorship_tag": "ABX9TyMQ8g7xY4DYNOyO5WLjNPO2",
      "include_colab_link": true
    },
    "kernelspec": {
      "name": "python3",
      "display_name": "Python 3"
    },
    "language_info": {
      "name": "python"
    }
  },
  "cells": [
    {
      "cell_type": "markdown",
      "metadata": {
        "id": "view-in-github",
        "colab_type": "text"
      },
      "source": [
        "<a href=\"https://colab.research.google.com/github/jcmachicao/curso_LLM/blob/main/gdmk__openai_whisper.ipynb\" target=\"_parent\"><img src=\"https://colab.research.google.com/assets/colab-badge.svg\" alt=\"Open In Colab\"/></a>"
      ]
    },
    {
      "cell_type": "code",
      "source": [
        "!pip install openai"
      ],
      "metadata": {
        "id": "oUT9uMefgVMj"
      },
      "execution_count": null,
      "outputs": []
    },
    {
      "cell_type": "code",
      "source": [
        "!pip install python-docx"
      ],
      "metadata": {
        "colab": {
          "base_uri": "https://localhost:8080/"
        },
        "id": "WgS-DIdVgfJh",
        "outputId": "dca42e15-0549-4fd3-edc9-4b0018b2325c"
      },
      "execution_count": 3,
      "outputs": [
        {
          "output_type": "stream",
          "name": "stdout",
          "text": [
            "Collecting python-docx\n",
            "  Downloading python_docx-1.0.0-py3-none-any.whl (236 kB)\n",
            "\u001b[?25l     \u001b[90m━━━━━━━━━━━━━━━━━━━━━━━━━━━━━━━━━━━━━━━━\u001b[0m \u001b[32m0.0/236.1 kB\u001b[0m \u001b[31m?\u001b[0m eta \u001b[36m-:--:--\u001b[0m\r\u001b[2K     \u001b[91m━━━━━━━━━━━━━━━\u001b[0m\u001b[91m╸\u001b[0m\u001b[90m━━━━━━━━━━━━━━━━━━━━━━━━\u001b[0m \u001b[32m92.2/236.1 kB\u001b[0m \u001b[31m2.7 MB/s\u001b[0m eta \u001b[36m0:00:01\u001b[0m\r\u001b[2K     \u001b[90m━━━━━━━━━━━━━━━━━━━━━━━━━━━━━━━━━━━━━━━\u001b[0m \u001b[32m236.1/236.1 kB\u001b[0m \u001b[31m3.9 MB/s\u001b[0m eta \u001b[36m0:00:00\u001b[0m\n",
            "\u001b[?25hRequirement already satisfied: lxml>=3.1.0 in /usr/local/lib/python3.10/dist-packages (from python-docx) (4.9.3)\n",
            "Requirement already satisfied: typing-extensions in /usr/local/lib/python3.10/dist-packages (from python-docx) (4.5.0)\n",
            "Installing collected packages: python-docx\n",
            "Successfully installed python-docx-1.0.0\n"
          ]
        }
      ]
    },
    {
      "cell_type": "code",
      "source": [
        "import openai\n",
        "from docx import Document\n",
        "import os"
      ],
      "metadata": {
        "id": "JOJlAE_2gcvS"
      },
      "execution_count": 6,
      "outputs": []
    },
    {
      "cell_type": "code",
      "source": [
        "f = open('OAI_2023_09F.txt','r')\n",
        "ftx = f.readlines()\n",
        "tok = ''.join(ftx).replace('\\n', '')"
      ],
      "metadata": {
        "id": "xCfx-4UFjNcV"
      },
      "execution_count": 25,
      "outputs": []
    },
    {
      "cell_type": "code",
      "source": [
        "openai.api_key = tok"
      ],
      "metadata": {
        "id": "OHY2iGB5ixqC"
      },
      "execution_count": 26,
      "outputs": []
    },
    {
      "cell_type": "code",
      "source": [
        "ruta = 'drive/My Drive/2023 Cursos/Capacidades Cursos/cursos_LLM_codigos/'\n",
        "print(os.listdir(ruta))\n",
        "audio_file = 'ejemplo_discurso.mp3'"
      ],
      "metadata": {
        "colab": {
          "base_uri": "https://localhost:8080/"
        },
        "id": "0wmpbpWpgzPY",
        "outputId": "e30a86db-4444-47c1-aa0b-d2310c4152e7"
      },
      "execution_count": 27,
      "outputs": [
        {
          "output_type": "stream",
          "name": "stdout",
          "text": [
            "['gdmk__openai_whisper.ipynb', 'ejemplo_discurso.mp3']\n"
          ]
        }
      ]
    },
    {
      "cell_type": "code",
      "execution_count": null,
      "metadata": {
        "id": "TH_tJ5EIgRAc"
      },
      "outputs": [],
      "source": [
        "with open(ruta + audio_file, 'rb') as aur:\n",
        "  transcription = openai.Audio.transcribe('whisper-1', aur)\n",
        "  tr_tx = transcription['text']"
      ]
    },
    {
      "cell_type": "code",
      "source": [
        "print(tr_tx.replace('.', '.\\n'))"
      ],
      "metadata": {
        "colab": {
          "base_uri": "https://localhost:8080/"
        },
        "id": "DPbvdYDBlTuZ",
        "outputId": "7a262585-3f63-4155-c29a-08763beeb972"
      },
      "execution_count": 33,
      "outputs": [
        {
          "output_type": "stream",
          "name": "stdout",
          "text": [
            "creo que la razón por la cual nos hemos congregado aquí no es para presentar el libro.\n",
            " Es para reflexionar que, ante la realidad innegable de que la mayoría de alumnos en nuestro país no tiene computadora personal, pero tampoco celular y como si fuera poco la señal de televisión Perú es bastante mala en muchos lugares, ¿no? Un docente esforzado en su aula seguramente decide grabar por WhatsApp cada día, dos-tres sesiones de video y, además, éste, con la ayuda de algunas mamás, distribuye materiales de trabajo a sus alumnos de quinto y sexto grado de primaria.\n",
            " Obviamente no quiere que ellos pierdan este año escolar.\n",
            " ¿No? Otros maestros cuentan que entre varios ayudan a los alumnos con lo que les es posible en la cuarentena, pero también a los padres de familia para que funcione Aprendo en Casa.\n",
            " Oye, muchos padres de familia no tienen teléfonos inteligentes, y hay que llamarlos para decirles detalles de las tareas de sus hijos.\n",
            " Hay bastante por reflexionar y luego actuar y transformar.\n",
            " Ese es nuestro país, esa es la razón por la cual debemos integrarnos y tener este tipo de eventos, en que, aunque no estoy físicamente presente, felizmente hay formas en que la ingeniería de algoritmos que todavía no entiendo bien, ayuda a compartir un poco de estas reflexiones, agradezco a todos quienes han venido, y espero que compartamos la reflexión a partir de estas memorias.\n",
            " Muchas gracias.\n",
            "\n"
          ]
        }
      ]
    },
    {
      "cell_type": "code",
      "source": [
        "prompt_sistema = \"Eres un experto en innovación educativa.\"\n",
        "prompt_pedido = \"Puedes hacer un resumen del mensaje del autor de este texto en un máximo de 30 palabras en castellano peruano y en inglés británico?\\n\\n\\\"\\\"\\\"\\nCreo que la razón por la cual nos hemos congregado aquí no es para presentar el libro.\\n Es para reflexionar que, ante la realidad innegable de que la mayoría de alumnos en nuestro país no tiene computadora personal, pero tampoco celular y como si fuera poco la señal de televisión Perú es bastante mala en muchos lugares, ¿no? Un docente esforzado en su aula seguramente decide grabar por WhatsApp cada día, dos-tres sesiones de video y, además, éste, con la ayuda de algunas mamás, distribuye materiales de trabajo a sus alumnos de quinto y sexto grado de primaria.\\n Obviamente no quiere que ellos pierdan este año escolar.\\n ¿No? Otros maestros cuentan que entre varios ayudan a los alumnos con lo que les es posible en la cuarentena, pero también a los padres de familia para que funcione Aprendo en Casa.\\n Oye, muchos padres de familia no tienen teléfonos inteligentes, y hay que llamarlos para decirles detalles de las tareas de sus hijos.\\n Hay bastante por reflexionar y luego actuar y transformar.\\n Ese es nuestro país, esa es la razón por la cual debemos integrarnos y tener este tipo de eventos, en que, aunque no estoy físicamente presente, felizmente hay formas en que la ingeniería de algoritmos que todavía no entiendo bien, ayuda a compartir un poco de estas reflexiones, agradezco a todos quienes han venido, y espero que compartamos la reflexión a partir de estas memorias.\\n Muchas gracias.\\n\\\"\\\"\\\"\"\n",
        "prompt_documento = \"Mensaje en castellano peruano: \\\"La situación educativa en nuestro país es complicada debido a la falta de recursos tecnológicos. Los docentes hacen todo lo posible por garantizar la educación de sus alumnos, pero se necesita reflexionar y actuar para transformar esta realidad\\\".\\n\\nMensaje en inglés británico: \\\"The educational situation in our country is difficult due to the lack of technological resources. Teachers are doing their best to ensure their students' education, but reflection and action are needed to transform this reality\\\".\""
      ],
      "metadata": {
        "id": "rZ4MgdcQ88o2"
      },
      "execution_count": 36,
      "outputs": []
    },
    {
      "cell_type": "markdown",
      "source": [
        "https://platform.openai.com/playground/p/6W6J33vAMwFu0lSXsO9KeFnZ?model=gpt-3.5-turbo-16k"
      ],
      "metadata": {
        "id": "sJouG9ki12pC"
      }
    },
    {
      "cell_type": "code",
      "source": [
        "response = openai.ChatCompletion.create(\n",
        "  model=\"gpt-3.5-turbo-16k\",\n",
        "  messages=[\n",
        "    {\"role\": \"system\", \"content\": prompt_sistema},\n",
        "    {\"role\": \"user\", \"content\": prompt_pedido},\n",
        "    {\"role\": \"assistant\", \"content\": prompt_documento}\n",
        "  ],\n",
        "  temperature=0.5,\n",
        "  max_tokens=300,\n",
        "  top_p=1,\n",
        "  frequency_penalty=0,\n",
        "  presence_penalty=0\n",
        ")"
      ],
      "metadata": {
        "id": "kYWUKrux2JXe"
      },
      "execution_count": 37,
      "outputs": []
    },
    {
      "cell_type": "code",
      "source": [
        "respuesta = response['choices'][0]['message']['content']\n",
        "print(respuesta)"
      ],
      "metadata": {
        "colab": {
          "base_uri": "https://localhost:8080/"
        },
        "id": "wY5VWjjl9nPY",
        "outputId": "c5111662-7264-48a7-f9a3-b26b59605d90"
      },
      "execution_count": 45,
      "outputs": [
        {
          "output_type": "stream",
          "name": "stdout",
          "text": [
            "Mensaje en castellano peruano: \"La razón por la que estamos aquí no es solo para presentar el libro, sino para reflexionar sobre los desafíos educativos que enfrentamos en nuestro país y buscar soluciones\".\n",
            "\n",
            "Mensaje en inglés británico: \"The reason we are gathered here is not just to present the book, but to reflect on the educational challenges we face in our country and seek solutions\".\n"
          ]
        }
      ]
    },
    {
      "cell_type": "code",
      "source": [
        "respuesta.split('\\n')[0]"
      ],
      "metadata": {
        "colab": {
          "base_uri": "https://localhost:8080/",
          "height": 53
        },
        "id": "gHZuqqqB-zcF",
        "outputId": "e31c9d34-5281-4b0b-aeec-11ae1615fe81"
      },
      "execution_count": 46,
      "outputs": [
        {
          "output_type": "execute_result",
          "data": {
            "text/plain": [
              "'Mensaje en castellano peruano: \"La razón por la que estamos aquí no es solo para presentar el libro, sino para reflexionar sobre los desafíos educativos que enfrentamos en nuestro país y buscar soluciones\".'"
            ],
            "application/vnd.google.colaboratory.intrinsic+json": {
              "type": "string"
            }
          },
          "metadata": {},
          "execution_count": 46
        }
      ]
    },
    {
      "cell_type": "code",
      "source": [
        "prompt_pedido_B = \"Podrías convertir el texto en español a un texto más dirigido a los jovenes universitarios peruanos?\"\n",
        "prompt_documento_B = respuesta.split('\\n')[0]"
      ],
      "metadata": {
        "id": "R6okGYHx-ak-"
      },
      "execution_count": 47,
      "outputs": []
    },
    {
      "cell_type": "code",
      "source": [
        "response_B = openai.ChatCompletion.create(\n",
        "  model=\"gpt-4\",\n",
        "  messages=[\n",
        "    {\"role\": \"user\", \"content\": prompt_pedido_B},\n",
        "    {\"role\": \"assistant\", \"content\": prompt_documento_B}\n",
        "  ],\n",
        "  temperature=0.5,\n",
        "  max_tokens=300,\n",
        "  top_p=1,\n",
        "  frequency_penalty=0,\n",
        "  presence_penalty=0\n",
        ")"
      ],
      "metadata": {
        "id": "2XjL4C602j4N"
      },
      "execution_count": 48,
      "outputs": []
    },
    {
      "cell_type": "code",
      "source": [
        "respuesta_B = response_B['choices'][0]['message']['content']\n",
        "resp = respuesta_B.split(':')[1]\n",
        "print(resp.replace('.', '.\\n'))"
      ],
      "metadata": {
        "colab": {
          "base_uri": "https://localhost:8080/"
        },
        "id": "LsWQdJWM-Q8-",
        "outputId": "5087f391-7381-42a2-c788-b15d44e50c9b"
      },
      "execution_count": 51,
      "outputs": [
        {
          "output_type": "stream",
          "name": "stdout",
          "text": [
            " \"Oe causa, no estamos aquí solo para bacilar con el libro, sino para quemarnos la cabeza pensando en los problemas de educación que hay en nuestra jato, Perú, y ver cómo los solucionamos, ¿ya?\"\n"
          ]
        }
      ]
    }
  ]
}